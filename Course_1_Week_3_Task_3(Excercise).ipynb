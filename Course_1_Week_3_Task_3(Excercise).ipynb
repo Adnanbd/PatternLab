{
  "nbformat": 4,
  "nbformat_minor": 0,
  "metadata": {
    "colab": {
      "name": "Course_1_Week_3_Task_3(Excercise).ipynb",
      "provenance": [],
      "collapsed_sections": [],
      "toc_visible": true,
      "include_colab_link": true
    },
    "kernelspec": {
      "display_name": "Python 3",
      "name": "python3"
    }
  },
  "cells": [
    {
      "cell_type": "markdown",
      "metadata": {
        "id": "view-in-github",
        "colab_type": "text"
      },
      "source": [
        "<a href=\"https://colab.research.google.com/github/Adnanbd/PatternLab/blob/master/Course_1_Week_3_Task_3(Excercise).ipynb\" target=\"_parent\"><img src=\"https://colab.research.google.com/assets/colab-badge.svg\" alt=\"Open In Colab\"/></a>"
      ]
    },
    {
      "cell_type": "code",
      "metadata": {
        "id": "zX4Kg8DUTKWO",
        "cellView": "form"
      },
      "source": [
        "#@title Licensed under the Apache License, Version 2.0 (the \"License\");\n",
        "# you may not use this file except in compliance with the License.\n",
        "# You may obtain a copy of the License at\n",
        "#\n",
        "# https://www.apache.org/licenses/LICENSE-2.0\n",
        "#\n",
        "# Unless required by applicable law or agreed to in writing, software\n",
        "# distributed under the License is distributed on an \"AS IS\" BASIS,\n",
        "# WITHOUT WARRANTIES OR CONDITIONS OF ANY KIND, either express or implied.\n",
        "# See the License for the specific language governing permissions and\n",
        "# limitations under the License."
      ],
      "execution_count": null,
      "outputs": []
    },
    {
      "cell_type": "markdown",
      "metadata": {
        "id": "iQjHqsmTAVLU"
      },
      "source": [
        "## Exercise 3\n",
        "In the videos you looked at how you would improve Fashion MNIST using Convolutions. For your exercise see if you can improve MNIST to 99.8% accuracy or more using only a single convolutional layer and a single MaxPooling 2D. You should stop training once the accuracy goes above this amount. It should happen in less than 20 epochs, so it's ok to hard code the number of epochs for training, but your training must end once it hits the above metric. If it doesn't, then you'll need to redesign your layers.\n",
        "\n",
        "I've started the code for you -- you need to finish it!\n",
        "\n",
        "When 99.8% accuracy has been hit, you should print out the string \"Reached 99.8% accuracy so cancelling training!\"\n"
      ]
    },
    {
      "cell_type": "code",
      "metadata": {
        "id": "sfQRyaJWAIdg",
        "colab": {
          "base_uri": "https://localhost:8080/"
        },
        "outputId": "e11d97a4-cefd-491c-d246-41c29bd0031c"
      },
      "source": [
        "import tensorflow as tf\n",
        "\n",
        "\n",
        "class myCallback(tf.keras.callbacks.Callback):\n",
        "  def on_epoch_end(self, epoch, logs={}):\n",
        "    if(logs.get('accuracy')>=0.998):\n",
        "      print(\"\\nReached 99.8% accuracy so cancelling training!\")\n",
        "      self.model.stop_training = True\n",
        "\n",
        "callbacks = myCallback()\n",
        "mnist = tf.keras.datasets.mnist\n",
        "(training_images, training_labels), (test_images, test_labels) = mnist.load_data()\n",
        "training_images=training_images.reshape(60000, 28, 28, 1)\n",
        "training_images=training_images / 255.0\n",
        "test_images = test_images.reshape(10000, 28, 28, 1)\n",
        "test_images=test_images/255.0\n",
        "model = tf.keras.models.Sequential([\n",
        "    tf.keras.layers.Conv2D(32, (3,3), activation='relu', input_shape=(28, 28, 1)),\n",
        "    tf.keras.layers.MaxPooling2D(2, 2),                                  \n",
        "    tf.keras.layers.Flatten(),\n",
        "    tf.keras.layers.Dense(128, activation='relu'),\n",
        "    tf.keras.layers.Dense(10, activation='softmax')\n",
        "])\n",
        "model.compile(optimizer='adam', loss='sparse_categorical_crossentropy', metrics=['accuracy'])\n",
        "model.fit(training_images, training_labels, epochs=20,callbacks=[callbacks])\n",
        "test_loss, test_acc = model.evaluate(test_images, test_labels)\n",
        "print(test_acc)\n"
      ],
      "execution_count": 2,
      "outputs": [
        {
          "output_type": "stream",
          "text": [
            "Epoch 1/20\n",
            "1875/1875 [==============================] - 33s 17ms/step - loss: 0.1457 - accuracy: 0.9564\n",
            "Epoch 2/20\n",
            "1875/1875 [==============================] - 32s 17ms/step - loss: 0.0507 - accuracy: 0.9846\n",
            "Epoch 3/20\n",
            "1875/1875 [==============================] - 32s 17ms/step - loss: 0.0308 - accuracy: 0.9902\n",
            "Epoch 4/20\n",
            "1875/1875 [==============================] - 32s 17ms/step - loss: 0.0205 - accuracy: 0.9935\n",
            "Epoch 5/20\n",
            "1875/1875 [==============================] - 32s 17ms/step - loss: 0.0142 - accuracy: 0.9952\n",
            "Epoch 6/20\n",
            "1875/1875 [==============================] - 32s 17ms/step - loss: 0.0115 - accuracy: 0.9965\n",
            "Epoch 7/20\n",
            "1875/1875 [==============================] - 33s 17ms/step - loss: 0.0075 - accuracy: 0.9976\n",
            "Epoch 8/20\n",
            "1875/1875 [==============================] - 35s 19ms/step - loss: 0.0075 - accuracy: 0.9975\n",
            "Epoch 9/20\n",
            "1873/1875 [============================>.] - ETA: 0s - loss: 0.0053 - accuracy: 0.9983\n",
            "Reached 99.8% accuracy so cancelling training!\n",
            "1875/1875 [==============================] - 35s 19ms/step - loss: 0.0053 - accuracy: 0.9983\n",
            "313/313 [==============================] - 2s 7ms/step - loss: 0.0590 - accuracy: 0.9853\n",
            "0.9853000044822693\n"
          ],
          "name": "stdout"
        }
      ]
    }
  ]
}