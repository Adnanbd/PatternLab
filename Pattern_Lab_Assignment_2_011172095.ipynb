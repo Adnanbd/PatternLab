{
  "nbformat": 4,
  "nbformat_minor": 0,
  "metadata": {
    "colab": {
      "name": "Pattern Lab Assignment 2 - 011172095.ipynb",
      "provenance": [],
      "authorship_tag": "ABX9TyPDpu4YgrQNdJO4Ai851qjS",
      "include_colab_link": true
    },
    "kernelspec": {
      "name": "python3",
      "display_name": "Python 3"
    }
  },
  "cells": [
    {
      "cell_type": "markdown",
      "metadata": {
        "id": "view-in-github",
        "colab_type": "text"
      },
      "source": [
        "<a href=\"https://colab.research.google.com/github/Adnanbd/PatternLab/blob/master/Pattern_Lab_Assignment_2_011172095.ipynb\" target=\"_parent\"><img src=\"https://colab.research.google.com/assets/colab-badge.svg\" alt=\"Open In Colab\"/></a>"
      ]
    },
    {
      "cell_type": "code",
      "metadata": {
        "id": "qtgcjOWN40YT",
        "colab": {
          "base_uri": "https://localhost:8080/"
        },
        "outputId": "9c77f4d1-4ce0-40e3-d4f2-a78f441e426b"
      },
      "source": [
        "# Load the Drive helper and mount\n",
        "from google.colab import drive\n",
        "\n",
        "# This will prompt for authorization.\n",
        "drive.mount('/content/drive')"
      ],
      "execution_count": null,
      "outputs": [
        {
          "output_type": "stream",
          "text": [
            "Drive already mounted at /content/drive; to attempt to forcibly remount, call drive.mount(\"/content/drive\", force_remount=True).\n"
          ],
          "name": "stdout"
        }
      ]
    },
    {
      "cell_type": "code",
      "metadata": {
        "id": "BLHSbiYi6hB-"
      },
      "source": [
        "import glob\n",
        "import numpy as np\n",
        "\n",
        "data_files = glob.glob(\"/content/drive/My Drive/Study/Pattern Lab/iLearn-master/NPY/*.npy\")\n",
        "#data_files = glob.glob(\"/content/drive/My Drive/Study/Pattern Lab/xyz/*.npy\")\n"
      ],
      "execution_count": null,
      "outputs": []
    },
    {
      "cell_type": "code",
      "metadata": {
        "id": "wZdQ4YRDQeN_",
        "colab": {
          "base_uri": "https://localhost:8080/"
        },
        "outputId": "188a788a-45e2-40a6-cb2f-33e9f26c4d49"
      },
      "source": [
        "data_file_NGsub_test = []\n",
        "data_file_NGsub_train = []\n",
        "data_file_PGsub_test = []\n",
        "data_file_PGsub_train = []\n",
        "\n",
        "for data_file in data_files:\n",
        "  file_info = data_file.split('/')\n",
        "  if file_info[-1].startswith(\"NGsub_test\"):\n",
        "    data_file_NGsub_test.append(data_file)\n",
        "  elif file_info[-1].startswith(\"NGsub_train\"):\n",
        "    data_file_NGsub_train.append(data_file)\n",
        "  elif file_info[-1].startswith(\"PGsub_test\"):\n",
        "    data_file_PGsub_test.append(data_file)\n",
        "  elif file_info[-1].startswith(\"PGsub_train\"):\n",
        "    data_file_PGsub_train.append(data_file)\n",
        "\n",
        "\n",
        "print(len(data_file_NGsub_test))\n",
        "print(len(data_file_NGsub_train))\n",
        "print(len(data_file_PGsub_test))\n",
        "print(len(data_file_PGsub_train))\n",
        "\n",
        "\n",
        "print(np.load(data_file_NGsub_test[1]).shape)"
      ],
      "execution_count": null,
      "outputs": [
        {
          "output_type": "stream",
          "text": [
            "16\n",
            "16\n",
            "16\n",
            "16\n",
            "(59, 32)\n"
          ],
          "name": "stdout"
        }
      ]
    },
    {
      "cell_type": "markdown",
      "metadata": {
        "id": "2d5ltI81AzWj"
      },
      "source": [
        "# **NGsub_train**"
      ]
    },
    {
      "cell_type": "code",
      "metadata": {
        "id": "QeIYpB2895d-",
        "colab": {
          "base_uri": "https://localhost:8080/"
        },
        "outputId": "e02ad0f3-4b71-4c40-8fa5-edee57378fd8"
      },
      "source": [
        "\n",
        "index_NGsub_train = []\n",
        "\n",
        "split1 = data_file_NGsub_train[0].split(\"/\")\n",
        "split2 = split1[-1].split(\"_\")\n",
        "split3 = split2[-1].split(\".\")\n",
        "feature_name = split3[0]\n",
        "num_rows, num_cols = np.load(data_file_NGsub_train[0]).shape\n",
        "index_NGsub_train.append({\"Feature\":feature_name,\"start_index\":0,\"end_index\": int(num_cols)-1})\n",
        "temp = np.load(data_file_NGsub_train[0])\n",
        "i = 0\n",
        "for data_file in data_file_NGsub_train:\n",
        "  if i > 0:\n",
        "    results = np.load(data_file)\n",
        "    #print(results.shape)\n",
        "    #print(data_file)\n",
        "\n",
        "    split1 = data_file.split(\"/\")\n",
        "    split2 = split1[-1].split(\"_\")\n",
        "    split3 = split2[-1].split(\".\")\n",
        "    feature_name = split3[0]\n",
        "    num_rows, num_cols = np.load(data_file).shape\n",
        "    index_NGsub_train.append({\"Feature\":feature_name,\"start_index\":(index_NGsub_train[i-1][\"end_index\"] + 1),\"end_index\": (int(num_cols) + index_NGsub_train[i-1][\"end_index\"])})\n",
        "\n",
        "    temp = np.concatenate((temp,results),axis=1)\n",
        "  i = i+1\n",
        "\n",
        "print(temp.shape)\n",
        "\n",
        "print(*index_NGsub_train, sep = \"\\n\") \n",
        "#np.save(f\"/content/drive/My Drive/Study/Pattern Lab/temp/data_file_NGsub_train.npy\", temp)\n",
        "\n",
        "\n"
      ],
      "execution_count": null,
      "outputs": [
        {
          "output_type": "stream",
          "text": [
            "(844, 164)\n",
            "(844, 96)\n",
            "(844, 128)\n",
            "(844, 42)\n",
            "(844, 64)\n",
            "(844, 32)\n",
            "(844, 4)\n",
            "(844, 64)\n",
            "(844, 128)\n",
            "(844, 16)\n",
            "(844, 41)\n",
            "(844, 256)\n",
            "(844, 148)\n",
            "(844, 64)\n",
            "(844, 14)\n",
            "(844, 1302)\n",
            "{'Feature': 'ANF', 'start_index': 0, 'end_index': 40}\n",
            "{'Feature': 'binary', 'start_index': 41, 'end_index': 204}\n",
            "{'Feature': 'gap5', 'start_index': 205, 'end_index': 300}\n",
            "{'Feature': 'gap7', 'start_index': 301, 'end_index': 428}\n",
            "{'Feature': 'lag7', 'start_index': 429, 'end_index': 470}\n",
            "{'Feature': 'gap3', 'start_index': 471, 'end_index': 534}\n",
            "{'Feature': 'gap1', 'start_index': 535, 'end_index': 566}\n",
            "{'Feature': 'kmer1', 'start_index': 567, 'end_index': 570}\n",
            "{'Feature': 'PseEIIP', 'start_index': 571, 'end_index': 634}\n",
            "{'Feature': '10', 'start_index': 635, 'end_index': 762}\n",
            "{'Feature': 'kmer2', 'start_index': 763, 'end_index': 778}\n",
            "{'Feature': 'EIIP', 'start_index': 779, 'end_index': 819}\n",
            "{'Feature': 'kmer4', 'start_index': 820, 'end_index': 1075}\n",
            "{'Feature': '5', 'start_index': 1076, 'end_index': 1223}\n",
            "{'Feature': 'kmer3', 'start_index': 1224, 'end_index': 1287}\n",
            "{'Feature': 'lag7', 'start_index': 1288, 'end_index': 1301}\n"
          ],
          "name": "stdout"
        }
      ]
    },
    {
      "cell_type": "markdown",
      "metadata": {
        "id": "RLVLFbbGg-6s"
      },
      "source": [
        "# **NGsub_test**"
      ]
    },
    {
      "cell_type": "code",
      "metadata": {
        "id": "yskpAVJNeP9N",
        "colab": {
          "base_uri": "https://localhost:8080/"
        },
        "outputId": "2520ae0b-1894-4efc-83f8-2f2236fb026c"
      },
      "source": [
        "index_NGsub_test = []\n",
        "\n",
        "split1 = data_file_NGsub_test[0].split(\"/\")\n",
        "split2 = split1[-1].split(\"_\")\n",
        "split3 = split2[-1].split(\".\")\n",
        "feature_name = split3[0]\n",
        "num_rows, num_cols = np.load(data_file_NGsub_test[0]).shape\n",
        "index_NGsub_test.append({\"Feature\":feature_name,\"start_index\":0,\"end_index\": int(num_cols)-1})\n",
        "temp = np.load(data_file_NGsub_test[0])\n",
        "i = 0\n",
        "for data_file in data_file_NGsub_test:\n",
        "  if i > 0:\n",
        "    results = np.load(data_file)\n",
        "    #print(results.shape)\n",
        "    #print(data_file)\n",
        "\n",
        "    split1 = data_file.split(\"/\")\n",
        "    split2 = split1[-1].split(\"_\")\n",
        "    split3 = split2[-1].split(\".\")\n",
        "    feature_name = split3[0]\n",
        "    num_rows, num_cols = np.load(data_file).shape\n",
        "    index_NGsub_test.append({\"Feature\":feature_name,\"start_index\":(index_NGsub_test[i-1][\"end_index\"] + 1),\"end_index\": (int(num_cols) + index_NGsub_test[i-1][\"end_index\"])})\n",
        "\n",
        "    temp = np.concatenate((temp,results),axis=1)\n",
        "  i = i+1\n",
        "\n",
        "print(temp.shape)\n",
        "\n",
        "print(*index_NGsub_test, sep = \"\\n\") \n",
        "#np.save(f\"/content/drive/My Drive/Study/Pattern Lab/temp/data_file_NGsub_test.npy\", temp)"
      ],
      "execution_count": null,
      "outputs": [
        {
          "output_type": "stream",
          "text": [
            "(59, 1302)\n",
            "{'Feature': 'gap5', 'start_index': 0, 'end_index': 95}\n",
            "{'Feature': 'gap1', 'start_index': 96, 'end_index': 127}\n",
            "{'Feature': 'ANF', 'start_index': 128, 'end_index': 168}\n",
            "{'Feature': 'gap3', 'start_index': 169, 'end_index': 232}\n",
            "{'Feature': 'binary', 'start_index': 233, 'end_index': 396}\n",
            "{'Feature': 'gap7', 'start_index': 397, 'end_index': 524}\n",
            "{'Feature': '10', 'start_index': 525, 'end_index': 652}\n",
            "{'Feature': 'kmer3', 'start_index': 653, 'end_index': 716}\n",
            "{'Feature': 'lag7', 'start_index': 717, 'end_index': 730}\n",
            "{'Feature': '5', 'start_index': 731, 'end_index': 878}\n",
            "{'Feature': 'lag7', 'start_index': 879, 'end_index': 920}\n",
            "{'Feature': 'kmer2', 'start_index': 921, 'end_index': 936}\n",
            "{'Feature': 'EIIP', 'start_index': 937, 'end_index': 977}\n",
            "{'Feature': 'kmer4', 'start_index': 978, 'end_index': 1233}\n",
            "{'Feature': 'PseEIIP', 'start_index': 1234, 'end_index': 1297}\n",
            "{'Feature': 'kmer1', 'start_index': 1298, 'end_index': 1301}\n"
          ],
          "name": "stdout"
        }
      ]
    },
    {
      "cell_type": "markdown",
      "metadata": {
        "id": "qOR3Zf7whCZr"
      },
      "source": [
        "# **PGsub_test**"
      ]
    },
    {
      "cell_type": "code",
      "metadata": {
        "id": "pNb3_R23hDm4",
        "colab": {
          "base_uri": "https://localhost:8080/"
        },
        "outputId": "1c04a73f-2207-46b1-8d64-e0240395d0c8"
      },
      "source": [
        "index_PGsub_test = []\n",
        "\n",
        "split1 = data_file_PGsub_test[0].split(\"/\")\n",
        "split2 = split1[-1].split(\"_\")\n",
        "split3 = split2[-1].split(\".\")\n",
        "feature_name = split3[0]\n",
        "num_rows, num_cols = np.load(data_file_PGsub_test[0]).shape\n",
        "index_PGsub_test.append({\"Feature\":feature_name,\"start_index\":0,\"end_index\": int(num_cols)-1})\n",
        "temp = np.load(data_file_PGsub_test[0])\n",
        "i = 0\n",
        "for data_file in data_file_PGsub_test:\n",
        "  if i > 0:\n",
        "    results = np.load(data_file)\n",
        "    #print(results.shape)\n",
        "    #print(data_file)\n",
        "\n",
        "    split1 = data_file.split(\"/\")\n",
        "    split2 = split1[-1].split(\"_\")\n",
        "    split3 = split2[-1].split(\".\")\n",
        "    feature_name = split3[0]\n",
        "    num_rows, num_cols = np.load(data_file).shape\n",
        "    index_PGsub_test.append({\"Feature\":feature_name,\"start_index\":(index_PGsub_test[i-1][\"end_index\"] + 1),\"end_index\": (int(num_cols) + index_PGsub_test[i-1][\"end_index\"])})\n",
        "\n",
        "    temp = np.concatenate((temp,results),axis=1)\n",
        "  i = i+1\n",
        "\n",
        "print(temp.shape)\n",
        "\n",
        "print(*index_PGsub_test, sep = \"\\n\") \n",
        "#np.save(f\"/content/drive/My Drive/Study/Pattern Lab/temp/data_file_PGsub_test.npy\", temp)"
      ],
      "execution_count": null,
      "outputs": [
        {
          "output_type": "stream",
          "text": [
            "(59, 1302)\n",
            "{'Feature': 'ANF', 'start_index': 0, 'end_index': 40}\n",
            "{'Feature': 'lag7', 'start_index': 41, 'end_index': 82}\n",
            "{'Feature': '10', 'start_index': 83, 'end_index': 210}\n",
            "{'Feature': 'EIIP', 'start_index': 211, 'end_index': 251}\n",
            "{'Feature': 'kmer2', 'start_index': 252, 'end_index': 267}\n",
            "{'Feature': '5', 'start_index': 268, 'end_index': 415}\n",
            "{'Feature': 'kmer3', 'start_index': 416, 'end_index': 479}\n",
            "{'Feature': 'kmer1', 'start_index': 480, 'end_index': 483}\n",
            "{'Feature': 'binary', 'start_index': 484, 'end_index': 647}\n",
            "{'Feature': 'PseEIIP', 'start_index': 648, 'end_index': 711}\n",
            "{'Feature': 'lag7', 'start_index': 712, 'end_index': 725}\n",
            "{'Feature': 'gap5', 'start_index': 726, 'end_index': 821}\n",
            "{'Feature': 'kmer4', 'start_index': 822, 'end_index': 1077}\n",
            "{'Feature': 'gap1', 'start_index': 1078, 'end_index': 1109}\n",
            "{'Feature': 'gap7', 'start_index': 1110, 'end_index': 1237}\n",
            "{'Feature': 'gap3', 'start_index': 1238, 'end_index': 1301}\n"
          ],
          "name": "stdout"
        }
      ]
    },
    {
      "cell_type": "markdown",
      "metadata": {
        "id": "eeGmoooXhEab"
      },
      "source": [
        "# **PGsub_train**"
      ]
    },
    {
      "cell_type": "code",
      "metadata": {
        "id": "YJrhgzC_hFAc",
        "colab": {
          "base_uri": "https://localhost:8080/"
        },
        "outputId": "3a77fea0-6e4c-4f2a-e3f6-b719cbf405c8"
      },
      "source": [
        "index_PGsub_train = []\n",
        "\n",
        "split1 = data_file_PGsub_train[0].split(\"/\")\n",
        "split2 = split1[-1].split(\"_\")\n",
        "split3 = split2[-1].split(\".\")\n",
        "feature_name = split3[0]\n",
        "num_rows, num_cols = np.load(data_file_PGsub_train[0]).shape\n",
        "index_PGsub_train.append({\"Feature\":feature_name,\"start_index\":0,\"end_index\": int(num_cols)-1})\n",
        "temp = np.load(data_file_PGsub_train[0])\n",
        "i = 0\n",
        "for data_file in data_file_PGsub_train:\n",
        "  if i > 0:\n",
        "    results = np.load(data_file)\n",
        "    #print(results.shape)\n",
        "    #print(data_file)\n",
        "\n",
        "    split1 = data_file.split(\"/\")\n",
        "    split2 = split1[-1].split(\"_\")\n",
        "    split3 = split2[-1].split(\".\")\n",
        "    feature_name = split3[0]\n",
        "    num_rows, num_cols = np.load(data_file).shape\n",
        "    index_PGsub_train.append({\"Feature\":feature_name,\"start_index\":(index_PGsub_train[i-1][\"end_index\"] + 1),\"end_index\": (int(num_cols) + index_PGsub_train[i-1][\"end_index\"])})\n",
        "\n",
        "    temp = np.concatenate((temp,results),axis=1)\n",
        "  i = i+1\n",
        "\n",
        "print(temp.shape)\n",
        "\n",
        "print(*index_PGsub_train, sep = \"\\n\") \n",
        "#np.save(f\"/content/drive/My Drive/Study/Pattern Lab/temp/data_file_PGsub_train.npy\", temp)"
      ],
      "execution_count": null,
      "outputs": [
        {
          "output_type": "stream",
          "text": [
            "(844, 1302)\n",
            "{'Feature': 'gap5', 'start_index': 0, 'end_index': 95}\n",
            "{'Feature': 'ANF', 'start_index': 96, 'end_index': 136}\n",
            "{'Feature': 'gap7', 'start_index': 137, 'end_index': 264}\n",
            "{'Feature': 'gap3', 'start_index': 265, 'end_index': 328}\n",
            "{'Feature': 'gap1', 'start_index': 329, 'end_index': 360}\n",
            "{'Feature': 'binary', 'start_index': 361, 'end_index': 524}\n",
            "{'Feature': 'kmer1', 'start_index': 525, 'end_index': 528}\n",
            "{'Feature': 'lag7', 'start_index': 529, 'end_index': 570}\n",
            "{'Feature': 'EIIP', 'start_index': 571, 'end_index': 611}\n",
            "{'Feature': 'kmer3', 'start_index': 612, 'end_index': 675}\n",
            "{'Feature': '10', 'start_index': 676, 'end_index': 803}\n",
            "{'Feature': 'kmer2', 'start_index': 804, 'end_index': 819}\n",
            "{'Feature': '5', 'start_index': 820, 'end_index': 967}\n",
            "{'Feature': 'kmer4', 'start_index': 968, 'end_index': 1223}\n",
            "{'Feature': 'lag7', 'start_index': 1224, 'end_index': 1237}\n",
            "{'Feature': 'PseEIIP', 'start_index': 1238, 'end_index': 1301}\n"
          ],
          "name": "stdout"
        }
      ]
    },
    {
      "cell_type": "code",
      "metadata": {
        "id": "cs7kZUyFerAT"
      },
      "source": [
        "data_files_final = glob.glob(\"/content/drive/My Drive/Study/Pattern Lab/temp/*.npy\")"
      ],
      "execution_count": null,
      "outputs": []
    },
    {
      "cell_type": "code",
      "metadata": {
        "id": "be_X-m2jjiFc",
        "colab": {
          "base_uri": "https://localhost:8080/"
        },
        "outputId": "f10b7da9-d5ab-41a7-c1ce-97c3817e54fd"
      },
      "source": [
        "data_file_Gsub_test = []\n",
        "data_file_Gsub_train = []\n",
        "\n",
        "\n",
        "for data_file in data_files_final:\n",
        "  print(data_file)\n",
        "  file_info = data_file.split('/')\n",
        "  file_name = file_info[-1].split('_')\n",
        "  if file_name[3].startswith(\"train\"):\n",
        "    data_file_Gsub_train.append(data_file)\n",
        "  if file_name[3].startswith(\"test\"):\n",
        "    data_file_Gsub_test.append(data_file)\n",
        "\n",
        "print(len(data_file_Gsub_test))\n",
        "print(len(data_file_Gsub_train))\n",
        "\n"
      ],
      "execution_count": null,
      "outputs": [
        {
          "output_type": "stream",
          "text": [
            "/content/drive/My Drive/Study/Pattern Lab/temp/data_file_NGsub_train.npy\n",
            "/content/drive/My Drive/Study/Pattern Lab/temp/data_file_NGsub_test.npy\n",
            "/content/drive/My Drive/Study/Pattern Lab/temp/data_file_PGsub_test.npy\n",
            "/content/drive/My Drive/Study/Pattern Lab/temp/data_file_PGsub_train.npy\n",
            "2\n",
            "2\n"
          ],
          "name": "stdout"
        }
      ]
    },
    {
      "cell_type": "markdown",
      "metadata": {
        "id": "gFJjLXU49kIE"
      },
      "source": [
        "# **Gsub_x_test & Gsub_y_test**"
      ]
    },
    {
      "cell_type": "code",
      "metadata": {
        "id": "PSIpPgSUppuu",
        "colab": {
          "base_uri": "https://localhost:8080/"
        },
        "outputId": "36af67c1-6dd3-4fd1-a270-8a8df6caba44"
      },
      "source": [
        "print(np.load(data_file_Gsub_test[0]).shape)\n",
        "print(np.load(data_file_Gsub_test[1]).shape)\n",
        "\n",
        "print(data_file_Gsub_test[0])\n",
        "print(data_file_Gsub_test[1])\n",
        "\n",
        "Gsub_test_y = []\n",
        "\n",
        "num_rows, num_cols = np.load(data_file_Gsub_test[0]).shape\n",
        "\n",
        "\n",
        "split1 = data_file_Gsub_test[0].split(\"/\")\n",
        "split2 = split1[-1].split(\"_\")\n",
        "i=0\n",
        "if split2[-2].startswith(\"N\"):\n",
        "  while i < int(num_rows):\n",
        "    Gsub_test_y.append([0])\n",
        "    i = i+1\n",
        "  while i < int(num_rows)*2:\n",
        "    Gsub_test_y.append([1])\n",
        "    i = i+1\n",
        "else:\n",
        "  while i < int(num_rows):\n",
        "    Gsub_test_y.append([1])\n",
        "    i = i+1\n",
        "  while i < int(num_rows)*2:\n",
        "    Gsub_test_y.append([0])\n",
        "    i = i+1\n",
        "\n",
        "\n",
        "Gsub_y_test = np.array(Gsub_test_y)\n",
        "Gsub_test = np.concatenate((np.load(data_file_Gsub_test[0]), np.load(data_file_Gsub_test[1])))\n",
        "\n",
        "print(Gsub_test.shape)\n",
        "print(Gsub_y_test.shape)\n",
        "\n",
        "\n",
        "##===================================================\n"
      ],
      "execution_count": null,
      "outputs": [
        {
          "output_type": "stream",
          "text": [
            "(59, 1302)\n",
            "(59, 1302)\n",
            "/content/drive/My Drive/Study/Pattern Lab/temp/data_file_NGsub_test.npy\n",
            "/content/drive/My Drive/Study/Pattern Lab/temp/data_file_PGsub_test.npy\n",
            "(118, 1302)\n",
            "(118, 1)\n"
          ],
          "name": "stdout"
        }
      ]
    },
    {
      "cell_type": "markdown",
      "metadata": {
        "id": "NLcQpsx-9tPq"
      },
      "source": [
        "# **Gsub_x_train & Gsub_y_train**"
      ]
    },
    {
      "cell_type": "code",
      "metadata": {
        "id": "wWe0nGDE7gRN",
        "colab": {
          "base_uri": "https://localhost:8080/"
        },
        "outputId": "5883e65a-587f-4c2e-df47-0047ecd2848f"
      },
      "source": [
        "print(np.load(data_file_Gsub_train[0]).shape)\n",
        "print(np.load(data_file_Gsub_train[1]).shape)\n",
        "\n",
        "print(data_file_Gsub_train[0])\n",
        "print(data_file_Gsub_train[1])\n",
        "\n",
        "Gsub_train_y = []\n",
        "\n",
        "num_rows, num_cols = np.load(data_file_Gsub_train[0]).shape\n",
        "\n",
        "\n",
        "split1 = data_file_Gsub_train[0].split(\"/\")\n",
        "split2 = split1[-1].split(\"_\")\n",
        "i=0\n",
        "if split2[-2].startswith(\"N\"):\n",
        "  while i < int(num_rows):\n",
        "    Gsub_train_y.append([0])\n",
        "    i = i+1\n",
        "  while i < int(num_rows)*2:\n",
        "    Gsub_train_y.append([1])\n",
        "    i = i+1\n",
        "else:\n",
        "  while i < int(num_rows):\n",
        "    Gsub_train_y.append([1])\n",
        "    i = i+1\n",
        "  while i < int(num_rows)*2:\n",
        "    Gsub_train_y.append([0])\n",
        "    i = i+1\n",
        "\n",
        "\n",
        "Gsub_y_train = np.array(Gsub_train_y)\n",
        "Gsub_train = np.concatenate((np.load(data_file_Gsub_train[0]), np.load(data_file_Gsub_train[1])))\n",
        "\n",
        "print(Gsub_train.shape)\n",
        "print(Gsub_y_train.shape)\n"
      ],
      "execution_count": null,
      "outputs": [
        {
          "output_type": "stream",
          "text": [
            "(844, 1302)\n",
            "(844, 1302)\n",
            "/content/drive/My Drive/Study/Pattern Lab/temp/data_file_NGsub_train.npy\n",
            "/content/drive/My Drive/Study/Pattern Lab/temp/data_file_PGsub_train.npy\n",
            "(1688, 1302)\n",
            "(1688, 1)\n"
          ],
          "name": "stdout"
        }
      ]
    },
    {
      "cell_type": "code",
      "metadata": {
        "id": "tNhs5Emt8BWK"
      },
      "source": [
        "np.save(f\"/content/drive/My Drive/Study/Pattern Lab/temp1/Gsub_x_train.npy\", Gsub_train)\n",
        "np.save(f\"/content/drive/My Drive/Study/Pattern Lab/temp1/Gsub_y_train.npy\", Gsub_y_train)\n",
        "np.save(f\"/content/drive/My Drive/Study/Pattern Lab/temp1/Gsub_x_test.npy\", Gsub_test)\n",
        "np.save(f\"/content/drive/My Drive/Study/Pattern Lab/temp1/Gsub_y_test.npy\", Gsub_y_test)"
      ],
      "execution_count": null,
      "outputs": []
    }
  ]
}