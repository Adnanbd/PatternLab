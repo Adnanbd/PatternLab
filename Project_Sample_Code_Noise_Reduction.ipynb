{
  "nbformat": 4,
  "nbformat_minor": 0,
  "metadata": {
    "colab": {
      "name": "Project Sample Code - Noise Reduction.ipynb",
      "provenance": [],
      "authorship_tag": "ABX9TyMyA+784LJyqh3MImRgs4qG",
      "include_colab_link": true
    },
    "kernelspec": {
      "name": "python3",
      "display_name": "Python 3"
    }
  },
  "cells": [
    {
      "cell_type": "markdown",
      "metadata": {
        "id": "view-in-github",
        "colab_type": "text"
      },
      "source": [
        "<a href=\"https://colab.research.google.com/github/Adnanbd/PatternLab/blob/master/Project_Sample_Code_Noise_Reduction.ipynb\" target=\"_parent\"><img src=\"https://colab.research.google.com/assets/colab-badge.svg\" alt=\"Open In Colab\"/></a>"
      ]
    },
    {
      "cell_type": "markdown",
      "metadata": {
        "id": "rmc__oYMYNCX"
      },
      "source": [
        "- Mount the Drive "
      ]
    },
    {
      "cell_type": "code",
      "metadata": {
        "colab": {
          "base_uri": "https://localhost:8080/"
        },
        "id": "x81O-1r7JAVm",
        "outputId": "e6cf282c-2b56-4a62-dff4-d06041272fea"
      },
      "source": [
        "from google.colab import drive\n",
        "\n",
        "drive.mount('/content/drive')"
      ],
      "execution_count": 1,
      "outputs": [
        {
          "output_type": "stream",
          "text": [
            "Mounted at /content/drive\n"
          ],
          "name": "stdout"
        }
      ]
    },
    {
      "cell_type": "code",
      "metadata": {
        "colab": {
          "base_uri": "https://localhost:8080/"
        },
        "id": "6FCHHpW4TpRg",
        "outputId": "fbd2d6a0-9924-4534-c96f-8c3e9c8390fd"
      },
      "source": [
        "import numpy as np\n",
        "import glob\n",
        "import pandas as pd \n",
        "\n",
        "\n",
        "\n",
        "data_files = glob.glob(\"/content/drive/MyDrive/Study/Shanto/Minhaj_data.csv\")\n",
        "#data_files = glob.glob(\"/content/drive/MyDrive/Study/Shanto/\")\n",
        "\n",
        "# Import pandas \n",
        "\n",
        "  \n",
        "# reading csv file  \n",
        "csv = pd.read_csv(data_files[0]) \n",
        "X = csv.to_numpy()\n",
        "\n",
        "#all_np = []\n",
        "\n",
        "#for m in data_files:\n",
        "#  csv = pd.read_csv(m)\n",
        "#  X = csv.to_numpy()\n",
        "#  all_np.append(X)\n",
        "\n",
        "\n",
        "\n",
        "\n",
        "print(X.shape)"
      ],
      "execution_count": 9,
      "outputs": [
        {
          "output_type": "stream",
          "text": [
            "(1201, 3)\n"
          ],
          "name": "stdout"
        }
      ]
    },
    {
      "cell_type": "code",
      "metadata": {
        "colab": {
          "base_uri": "https://localhost:8080/",
          "height": 285
        },
        "id": "T8O2RudNYLqm",
        "outputId": "ce6e7d0c-cd7f-413c-8931-16e07ea76c5b"
      },
      "source": [
        "import matplotlib.pyplot as plt\n",
        "print(X.shape)\n",
        "\n",
        "\n",
        "#for n in all_np:\n",
        "#  a = n[:,0]\n",
        "#  b = n[:,1]\n",
        "#  plt.plot(a, b, color='red');\n",
        "#  plt.show()\n",
        "\n",
        "\n",
        "#============================================\n",
        "a = X[:,0]\n",
        "b = X[:,1]\n",
        "\n",
        "plt.plot(a, b, color='red');\n",
        "\n",
        "plt.show()"
      ],
      "execution_count": 20,
      "outputs": [
        {
          "output_type": "stream",
          "text": [
            "(1201, 3)\n"
          ],
          "name": "stdout"
        },
        {
          "output_type": "display_data",
          "data": {
            "image/png": "[encoded data removed]",
            "text/plain": [
              "<Figure size 432x288 with 1 Axes>"
            ]
          },
          "metadata": {
            "tags": [],
            "needs_background": "light"
          }
        }
      ]
    },
    {
      "cell_type": "code",
      "metadata": {
        "colab": {
          "base_uri": "https://localhost:8080/"
        },
        "id": "6Vl9e526bCte",
        "outputId": "2970d80f-944f-4e79-c95b-a2f02890ec38"
      },
      "source": [
        "print(X.mean(axis=0))"
      ],
      "execution_count": 23,
      "outputs": [
        {
          "output_type": "stream",
          "text": [
            "[300.           9.12564572   0.        ]\n"
          ],
          "name": "stdout"
        }
      ]
    },
    {
      "cell_type": "code",
      "metadata": {
        "colab": {
          "base_uri": "https://localhost:8080/"
        },
        "id": "KecBeOZBasYl",
        "outputId": "c2df98ff-4980-4d1d-d846-58cf1bd286dd"
      },
      "source": [
        "modified_np = []\n",
        "for data in X:\n",
        "  if data[1] < 14.0 and data[1] > 4:\n",
        "    modified_np.append(data)\n",
        "print(np.array(modified_np).shape)\n",
        "final = np.array(modified_np)\n",
        "\n",
        "\n",
        "#final_list = []\n",
        "\n",
        "#for n in all_np:\n",
        "#  modified_np = []\n",
        "#  for data in X:\n",
        "#    if data[1] < 14.0 and data[1] > 4:\n",
        "#      modified_np.append(data)\n",
        "#  print(np.array(modified_np).shape)\n",
        "#  final = np.array(modified_np)\n",
        "#  final_list.append(final)\n",
        "\n",
        "\n",
        "\n"
      ],
      "execution_count": 31,
      "outputs": [
        {
          "output_type": "stream",
          "text": [
            "(1088, 3)\n"
          ],
          "name": "stdout"
        }
      ]
    },
    {
      "cell_type": "code",
      "metadata": {
        "colab": {
          "base_uri": "https://localhost:8080/",
          "height": 265
        },
        "id": "g1c57ViHdYd0",
        "outputId": "bda16cb3-e45e-4f77-9316-16d28d3cbb48"
      },
      "source": [
        "a = final[:,0]\n",
        "b = final[:,1]\n",
        "\n",
        "plt.plot(a, b, color='red');\n",
        "\n",
        "plt.show()"
      ],
      "execution_count": 32,
      "outputs": [
        {
          "output_type": "display_data",
          "data": {
            "image/png": "[encoded data removed]",
            "text/plain": [
              "<Figure size 432x288 with 1 Axes>"
            ]
          },
          "metadata": {
            "tags": [],
            "needs_background": "light"
          }
        }
      ]
    },
    {
      "cell_type": "code",
      "metadata": {
        "colab": {
          "base_uri": "https://localhost:8080/"
        },
        "id": "YvdjIXN7fLUx",
        "outputId": "2cf26401-41f5-488a-df3a-fafd303d13d3"
      },
      "source": [
        "np.savetxt('/content/drive/MyDrive/Study/Shanto/Modified_Minhaz_1.csv', final,fmt='%.6f', delimiter=',', header=\" Latest: Time (s),  Latest: GSR(40) (ÂµS),  Latest: GSR(5) (ÂµS)\")\n",
        "\n",
        "#print(data_files[0].split('/')[-1])\n",
        "#x = 0\n",
        "\n",
        "#for i in data_files:\n",
        "#  name = i.split('/')[-1]\n",
        "#  name1 = name.split('.')\n",
        "#  print(name1[1])\n",
        "#  np.savetxt('/content/drive/MyDrive/Study/Shanto/'+name1[1]+'_refinded.csv', final_list[x],fmt='%.6f', delimiter=',', header=\" Latest: Time (s),  Latest: GSR(40) (ÂµS),  Latest: GSR(5) (ÂµS)\")\n",
        "#  x = x+1\n",
        "\n"
      ],
      "execution_count": 39,
      "outputs": [
        {
          "output_type": "stream",
          "text": [
            "Minhaj_data.csv\n"
          ],
          "name": "stdout"
        }
      ]
    }
  ]
}